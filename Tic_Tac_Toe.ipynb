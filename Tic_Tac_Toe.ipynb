{
 "cells": [
  {
   "cell_type": "code",
   "execution_count": 1,
   "metadata": {
    "id": "ncfz-fHpRTLr"
   },
   "outputs": [],
   "source": [
    "import random"
   ]
  },
  {
   "cell_type": "code",
   "execution_count": 2,
   "metadata": {
    "id": "FLr_rn7gRt6F"
   },
   "outputs": [],
   "source": [
    "def drawBoard(board):\n",
    "    \"\"\"\n",
    "    This function prints out the board that it was passed.\n",
    "    Input:\"board\" is a list of 9 strings representing the board starting from top left \n",
    " \n",
    "    \"\"\" \n",
    "    print(board[1] + '|' + board[2] + '|' + board[3])\n",
    "    print('-+-+-')\n",
    "    print(board[4] + '|' + board[5] + '|' + board[6])\n",
    "    print('-+-+-')\n",
    "    print(board[7] + '|' + board[8] + '|' + board[9])"
   ]
  },
  {
   "cell_type": "code",
   "execution_count": 3,
   "metadata": {
    "id": "u5MHih-TSOtV"
   },
   "outputs": [],
   "source": [
    "def PlayingLetters():\n",
    "    \"\"\" \n",
    "    This function assigns letter 'X' to MAX (the program) and letter 'O' to MIN (the player)\n",
    "    Output: a list with the player's letter as the first item, and the computer's letter as the second.\n",
    "    \"\"\"\n",
    "    return ['O','X']"
   ]
  },
  {
   "cell_type": "code",
   "execution_count": 4,
   "metadata": {
    "id": "axdv7QDVU5gn"
   },
   "outputs": [],
   "source": [
    "def whoGoesFirst():\n",
    "    \"\"\"\n",
    "    This function randomly choose the player who goes first\n",
    "  \n",
    "    \"\"\"\n",
    "    if random.randint(0,1) == 0:\n",
    "        return 'computer'\n",
    "    else:\n",
    "        return 'player'"
   ]
  },
  {
   "cell_type": "code",
   "execution_count": 5,
   "metadata": {
    "id": "CpVyHYxPVypG"
   },
   "outputs": [],
   "source": [
    "def playAgain():\n",
    "    \"\"\"\n",
    "    This function returns True if the player wants to play again, otherwise it returns False.\n",
    "\n",
    "    \"\"\"\n",
    "    print('Do you want to play again? (Yes or No)')\n",
    "\n",
    "    return input().lower().startswith('y')\n"
   ]
  },
  {
   "cell_type": "code",
   "execution_count": 6,
   "metadata": {
    "id": "LVEjGCYgWaSm"
   },
   "outputs": [],
   "source": [
    "def makeMove(board, letter, move):\n",
    "    \"\"\"\n",
    "    This function makes a move on the board with the specified letter and position. \n",
    "\n",
    "    \"\"\"  \n",
    "    board[move] = letter\n"
   ]
  },
  {
   "cell_type": "code",
   "execution_count": 7,
   "metadata": {
    "id": "ZNeBVdq0XMxy"
   },
   "outputs": [],
   "source": [
    "def CopyBoard(board):\n",
    "    \"\"\"\n",
    "    This function makes a copy of the board list and return the copied board.\n",
    "    Input: board\n",
    "    Output: a copy of board\n",
    "\n",
    "    \"\"\" \n",
    "    Board_copy = board[:]\n",
    "    return Board_copy\n"
   ]
  },
  {
   "cell_type": "code",
   "execution_count": 8,
   "metadata": {
    "id": "UQORjF1YhUcZ"
   },
   "outputs": [],
   "source": [
    "def isSpaceEmpty(board, move):\n",
    "    \"\"\"\n",
    "    This function makes sure that the position of the  new move is empty.\n",
    "    Input: board, move\n",
    "    Output: True if the empty, False if not empty.\n",
    "\n",
    "    \"\"\"  \n",
    "    return board[move] == ' '"
   ]
  },
  {
   "cell_type": "code",
   "execution_count": 9,
   "metadata": {
    "id": "18_OfASWiWuf"
   },
   "outputs": [],
   "source": [
    "def getPlayerMove(board):\n",
    "    \"\"\"\n",
    "    This function takes the player's move as an input from the player and makes sure that the move position is empty.\n",
    "    \"\"\"\n",
    "    move = '' \n",
    "    while move not in '1 2 3 4 5 6 7 8 9'.split() or not isSpaceEmpty(board,int(move)):\n",
    "        print('What is your next move? (1-9)')\n",
    "        move = input()\n",
    "    return int(move)"
   ]
  },
  {
   "cell_type": "code",
   "execution_count": 10,
   "metadata": {
    "id": "cdPkIFi_jXgx"
   },
   "outputs": [],
   "source": [
    "def Winner(board):\n",
    "    \"\"\"\n",
    "    This function takes the current board returns True if that player has won.\n",
    "    Input: board\n",
    "    Output: True, if the player won , False otherwise.\n",
    "    \"\"\" \n",
    "    won =((board[1]==\"O\" and board[2]==\"O\" and board[3]==\"O\") or\n",
    "        (board[4]==\"O\" and board[5]==\"O\" and board[6]==\"O\") or\n",
    "        (board[7]==\"O\" and board[8]==\"O\" and board[9]==\"O\") or\n",
    "        (board[1]==\"O\" and board[4]==\"O\" and board[7]==\"O\") or\n",
    "        (board[2]==\"O\" and board[5]==\"O\" and board[8]==\"O\") or\n",
    "        (board[3]==\"O\" and board[6]==\"O\" and board[9]==\"O\") or\n",
    "        (board[1]==\"O\" and board[5]==\"O\" and board[9]==\"O\") or\n",
    "        (board[3]==\"O\" and board[5]==\"O\" and board[7]==\"O\")) \n",
    "\n",
    "    lose =((board[1]==\"X\" and board[2]==\"X\" and board[3]==\"X\") or\n",
    "            (board[4]==\"X\" and board[5]==\"X\" and board[6]==\"X\") or\n",
    "            (board[7]==\"X\" and board[8]==\"X\" and board[9]==\"X\") or\n",
    "            (board[1]==\"X\" and board[4]==\"X\" and board[7]==\"X\") or\n",
    "            (board[2]==\"X\" and board[5]==\"X\" and board[8]==\"X\") or\n",
    "            (board[3]==\"X\" and board[6]==\"X\" and board[9]==\"X\") or\n",
    "            (board[1]==\"X\" and board[5]==\"X\" and board[9]==\"X\") or\n",
    "            (board[3]==\"X\" and board[5]==\"X\" and board[7]==\"X\"))    \n",
    "    if won :\n",
    "        return -1\n",
    "\n",
    "    elif lose:\n",
    "        return 1\n",
    "\n",
    "    else :\n",
    "        return 0"
   ]
  },
  {
   "cell_type": "code",
   "execution_count": 11,
   "metadata": {
    "id": "SlOyZ3V0pFpL"
   },
   "outputs": [],
   "source": [
    "def selectRandomMove(board, List):\n",
    "    \"\"\"\n",
    "    This Function returns a valid move from the given list on the given board, and returns None if there is no valid move.\n",
    "    Inputs: board, List\n",
    "    Output: random possible move.\n",
    "\n",
    "    \"\"\"\n",
    "    possibls = []\n",
    "    for i in List:\n",
    "        if isSpaceEmpty(board, i):\n",
    "            possibls.append(i)\n",
    "\n",
    "    if len(possibls) != 0:\n",
    "        return random.choice(possibls)\n",
    "    else:\n",
    "        return None\n"
   ]
  },
  {
   "cell_type": "code",
   "execution_count": 12,
   "metadata": {
    "id": "hRWoaJyJsV05"
   },
   "outputs": [],
   "source": [
    "def MiniMax(board, depth, isMax, alpha, beta):\n",
    "    \"\"\"\n",
    "    This Function determine where to move on the given board and return that move based on alpha-beta search. \n",
    "    Inputs: board, depth, isMax, alpha, beta\n",
    "    Output: the move.\n",
    "\n",
    "    \"\"\"\n",
    "\n",
    "    computerLetter = 'X'\n",
    "    playerLetter = 'O'\n",
    "\n",
    "    if isMax:\n",
    "        best = -1000\n",
    "\n",
    "        for i in range(1,10):\n",
    "            if isSpaceEmpty(board, i):\n",
    "                board[i] = computerLetter\n",
    "                best = max(best, MiniMax(board, depth+1, not isMax, alpha, beta) - depth)\n",
    "                alpha = max(alpha, best)\n",
    "                board[i] = ' '\n",
    "                \n",
    "                if alpha >= beta:\n",
    "                    break\n",
    "\n",
    "        return best\n",
    "    else:\n",
    "        best = 1000\n",
    "\n",
    "        for i in range(1,10):\n",
    "            if isSpaceEmpty(board, i):\n",
    "                board[i] = playerLetter\n",
    "                best = min(best, MiniMax(board, depth+1, not isMax, alpha, beta) + depth)\n",
    "                beta = min(beta, best)\n",
    "                board[i] = ' '\n",
    "                if alpha >= beta:\n",
    "                    break\n",
    "\n",
    "        return best\n"
   ]
  },
  {
   "cell_type": "code",
   "execution_count": 13,
   "metadata": {
    "id": "miBogUJOtwjr"
   },
   "outputs": [],
   "source": [
    "def findBestMove(board):\n",
    "    \"\"\"\n",
    "    This Function determine the best move on the given board and return that move based on alpha-beta search. \n",
    "    Inputs: board\n",
    "    Output: the best move.\n",
    "\n",
    "    \"\"\"\n",
    "    computerLetter = 'X'\n",
    "    playerLetter = 'O'\n",
    "\n",
    "\n",
    "    bestVal = -1000\n",
    "    bestMove = -1000\n",
    "\n",
    "    for i in range(1,10):\n",
    "        if isSpaceEmpty(board, i):\n",
    "            board[i] = computerLetter\n",
    "            moveVal = MiniMax(board, 0, False, -1000, 1000)\n",
    "            board[i] = ' '\n",
    "            if moveVal > bestVal:\n",
    "                bestMove = i\n",
    "                bestVal = moveVal\n",
    "    return bestMove\n"
   ]
  },
  {
   "cell_type": "code",
   "execution_count": 14,
   "metadata": {
    "id": "ojQNr36bv2KN"
   },
   "outputs": [],
   "source": [
    "def isBoardFull(board):\n",
    "    \"\"\"\n",
    "    This Function return True if every space on the board has been taken. Otherwise return False.\n",
    "    \"\"\" \n",
    "    for i in range(1,10):\n",
    "        if isSpaceEmpty(board, i):\n",
    "            return False\n",
    "    return True\n"
   ]
  },
  {
   "cell_type": "code",
   "execution_count": 15,
   "metadata": {
    "id": "Wh9FMQsuzEU-"
   },
   "outputs": [],
   "source": [
    "def StartGame():\n",
    "    print('\\nWelcome to Tic Tac Toe!\\n')\n",
    "    drawBoard([' '] * 10)\n",
    "    print('')\n",
    "  \n",
    "    while True:\n",
    "    # Reset the board\n",
    "        Board = [' '] * 10\n",
    "        playerLetter, computerLetter = PlayingLetters()\n",
    "        turn = whoGoesFirst()\n",
    "        print('The ' + turn + ' will go first.')\n",
    "        gameIsPlaying = True\n",
    "\n",
    "        while gameIsPlaying:\n",
    "            if turn == 'player':\n",
    "                drawBoard(Board)\n",
    "                move = getPlayerMove(Board)\n",
    "                makeMove(Board, playerLetter, move)\n",
    "\n",
    "                if Winner(Board)== -1:\n",
    "                    drawBoard(Board)\n",
    "                    print('You won the game')\n",
    "                    gameIsPlaying = False\n",
    "\n",
    "                elif Winner(Board)== 0:\n",
    "                    if isBoardFull(Board):\n",
    "                        drawBoard(Board)\n",
    "                        print('The game is a tie')\n",
    "                        break\n",
    "                    else:\n",
    "                        turn = 'computer'\n",
    "            else:\n",
    "                move = findBestMove(Board)\n",
    "                makeMove(Board, computerLetter, move)\n",
    "                \n",
    "                if Winner(Board)== 1:\n",
    "                    drawBoard(Board)\n",
    "                    print('You lose the game')\n",
    "                    gameIsPlaying = False\n",
    "                elif Winner(Board)== 0:\n",
    "                    if isBoardFull(Board):\n",
    "                        drawBoard(Board)\n",
    "                        print('The game is a tie')\n",
    "                        break\n",
    "                    else:\n",
    "                        turn = 'player'\n",
    "        if not playAgain():\n",
    "            break"
   ]
  },
  {
   "cell_type": "code",
   "execution_count": 16,
   "metadata": {
    "colab": {
     "base_uri": "https://localhost:8080/"
    },
    "id": "mzdfuAt5z94H",
    "outputId": "53a801cf-e53b-4a21-c7ef-1f186fb43892"
   },
   "outputs": [
    {
     "name": "stdout",
     "output_type": "stream",
     "text": [
      "\n",
      "Welcome to Tic Tac Toe!\n",
      "\n",
      " | | \n",
      "-+-+-\n",
      " | | \n",
      "-+-+-\n",
      " | | \n",
      "\n",
      "The player will go first.\n",
      " | | \n",
      "-+-+-\n",
      " | | \n",
      "-+-+-\n",
      " | | \n",
      "What is your next move? (1-9)\n",
      "1\n",
      "O|X| \n",
      "-+-+-\n",
      " | | \n",
      "-+-+-\n",
      " | | \n",
      "What is your next move? (1-9)\n",
      "3\n",
      "O|X|O\n",
      "-+-+-\n",
      "X| | \n",
      "-+-+-\n",
      " | | \n",
      "What is your next move? (1-9)\n",
      "9\n",
      "O|X|O\n",
      "-+-+-\n",
      "X|X| \n",
      "-+-+-\n",
      " | |O\n",
      "What is your next move? (1-9)\n",
      "6\n",
      "O|X|O\n",
      "-+-+-\n",
      "X|X|O\n",
      "-+-+-\n",
      " | |O\n",
      "You won the game\n",
      "Do you want to play again? (Yes or No)\n",
      "no\n"
     ]
    }
   ],
   "source": [
    "StartGame()"
   ]
  },
  {
   "cell_type": "code",
   "execution_count": 17,
   "metadata": {
    "colab": {
     "base_uri": "https://localhost:8080/"
    },
    "id": "YLY6i-af0Abz",
    "outputId": "809994ec-3583-469b-f6f0-3c0f9c5e81ed"
   },
   "outputs": [
    {
     "name": "stdout",
     "output_type": "stream",
     "text": [
      "\n",
      "Welcome to Tic Tac Toe!\n",
      "\n",
      " | | \n",
      "-+-+-\n",
      " | | \n",
      "-+-+-\n",
      " | | \n",
      "\n",
      "The computer will go first.\n",
      "X| | \n",
      "-+-+-\n",
      " | | \n",
      "-+-+-\n",
      " | | \n",
      "What is your next move? (1-9)\n",
      "2\n",
      "X|O|X\n",
      "-+-+-\n",
      " | | \n",
      "-+-+-\n",
      " | | \n",
      "What is your next move? (1-9)\n",
      "5\n",
      "X|O|X\n",
      "-+-+-\n",
      "X|O| \n",
      "-+-+-\n",
      " | | \n",
      "What is your next move? (1-9)\n",
      "7\n",
      "X|O|X\n",
      "-+-+-\n",
      "X|O|X\n",
      "-+-+-\n",
      "O| | \n",
      "What is your next move? (1-9)\n",
      "9\n",
      "X|O|X\n",
      "-+-+-\n",
      "X|O|X\n",
      "-+-+-\n",
      "O|X|O\n",
      "The game is a tie\n",
      "Do you want to play again? (Yes or No)\n",
      "no\n"
     ]
    }
   ],
   "source": [
    "StartGame()"
   ]
  },
  {
   "cell_type": "code",
   "execution_count": 19,
   "metadata": {
    "colab": {
     "base_uri": "https://localhost:8080/"
    },
    "id": "8FJfmI7B6E-O",
    "outputId": "b916d5c4-56d2-455a-e6b8-60a485ee95c6"
   },
   "outputs": [
    {
     "name": "stdout",
     "output_type": "stream",
     "text": [
      "\n",
      "Welcome to Tic Tac Toe!\n",
      "\n",
      " | | \n",
      "-+-+-\n",
      " | | \n",
      "-+-+-\n",
      " | | \n",
      "\n",
      "The computer will go first.\n",
      "X| | \n",
      "-+-+-\n",
      " | | \n",
      "-+-+-\n",
      " | | \n",
      "What is your next move? (1-9)\n",
      "2\n",
      "X|O|X\n",
      "-+-+-\n",
      " | | \n",
      "-+-+-\n",
      " | | \n",
      "What is your next move? (1-9)\n",
      "5\n",
      "X|O|X\n",
      "-+-+-\n",
      "X|O| \n",
      "-+-+-\n",
      " | | \n",
      "What is your next move? (1-9)\n",
      "6\n",
      "X|O|X\n",
      "-+-+-\n",
      "X|O|O\n",
      "-+-+-\n",
      "X| | \n",
      "You lose the game\n",
      "Do you want to play again? (Yes or No)\n",
      "no\n"
     ]
    }
   ],
   "source": [
    "StartGame()"
   ]
  },
  {
   "cell_type": "code",
   "execution_count": null,
   "metadata": {
    "id": "3dSA8ce56alr"
   },
   "outputs": [],
   "source": []
  }
 ],
 "metadata": {
  "colab": {
   "collapsed_sections": [],
   "name": "Tic Tac Toe.ipynb",
   "provenance": []
  },
  "kernelspec": {
   "display_name": "Python 3 (ipykernel)",
   "language": "python",
   "name": "python3"
  },
  "language_info": {
   "codemirror_mode": {
    "name": "ipython",
    "version": 3
   },
   "file_extension": ".py",
   "mimetype": "text/x-python",
   "name": "python",
   "nbconvert_exporter": "python",
   "pygments_lexer": "ipython3",
   "version": "3.9.9"
  }
 },
 "nbformat": 4,
 "nbformat_minor": 1
}
